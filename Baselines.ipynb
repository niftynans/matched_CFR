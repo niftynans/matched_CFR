{
 "cells": [
  {
   "cell_type": "code",
   "execution_count": 1,
   "metadata": {
    "colab": {
     "base_uri": "https://localhost:8080/"
    },
    "collapsed": true,
    "execution": {
     "iopub.execute_input": "2025-08-08T06:20:07.778879Z",
     "iopub.status.busy": "2025-08-08T06:20:07.778551Z",
     "iopub.status.idle": "2025-08-08T06:20:15.572999Z",
     "shell.execute_reply": "2025-08-08T06:20:15.572287Z"
    },
    "id": "zz0Aro2q7RNE",
    "outputId": "d447c415-311b-4aa0-d4de-3065aaa795d8"
   },
   "outputs": [
    {
     "name": "stdout",
     "output_type": "stream",
     "text": [
      "Looking in indexes: https://pypi.org/simple, https://pypi.ngc.nvidia.com\r\n",
      "Requirement already satisfied: econml in /Users/pnans/anaconda3/envs/cfrnet/lib/python3.9/site-packages (0.16.0)\r\n"
     ]
    },
    {
     "name": "stdout",
     "output_type": "stream",
     "text": [
      "Requirement already satisfied: numpy in /Users/pnans/anaconda3/envs/cfrnet/lib/python3.9/site-packages (from econml) (1.25.2)\r\n",
      "Requirement already satisfied: scipy>1.4.0 in /Users/pnans/anaconda3/envs/cfrnet/lib/python3.9/site-packages (from econml) (1.11.2)\r\n",
      "Requirement already satisfied: scikit-learn<1.7,>=1.0 in /Users/pnans/anaconda3/envs/cfrnet/lib/python3.9/site-packages (from econml) (1.1.3)\r\n",
      "Requirement already satisfied: sparse in /Users/pnans/anaconda3/envs/cfrnet/lib/python3.9/site-packages (from econml) (0.15.5)\r\n",
      "Requirement already satisfied: joblib>=0.13.0 in /Users/pnans/anaconda3/envs/cfrnet/lib/python3.9/site-packages (from econml) (1.3.2)\r\n",
      "Requirement already satisfied: statsmodels>=0.10 in /Users/pnans/anaconda3/envs/cfrnet/lib/python3.9/site-packages (from econml) (0.14.0)\r\n",
      "Requirement already satisfied: pandas>1.0 in /Users/pnans/anaconda3/envs/cfrnet/lib/python3.9/site-packages (from econml) (1.5.3)\r\n",
      "Requirement already satisfied: shap<0.49.0,>=0.38.1 in /Users/pnans/anaconda3/envs/cfrnet/lib/python3.9/site-packages (from econml) (0.48.0)\r\n",
      "Requirement already satisfied: lightgbm in /Users/pnans/anaconda3/envs/cfrnet/lib/python3.9/site-packages (from econml) (4.6.0)\r\n",
      "Requirement already satisfied: packaging in /Users/pnans/anaconda3/envs/cfrnet/lib/python3.9/site-packages (from econml) (23.1)\r\n",
      "Requirement already satisfied: python-dateutil>=2.8.1 in /Users/pnans/anaconda3/envs/cfrnet/lib/python3.9/site-packages (from pandas>1.0->econml) (2.8.2)\r\n",
      "Requirement already satisfied: pytz>=2020.1 in /Users/pnans/anaconda3/envs/cfrnet/lib/python3.9/site-packages (from pandas>1.0->econml) (2023.3)\r\n",
      "Requirement already satisfied: threadpoolctl>=2.0.0 in /Users/pnans/anaconda3/envs/cfrnet/lib/python3.9/site-packages (from scikit-learn<1.7,>=1.0->econml) (3.2.0)\r\n"
     ]
    },
    {
     "name": "stdout",
     "output_type": "stream",
     "text": [
      "Requirement already satisfied: tqdm>=4.27.0 in /Users/pnans/anaconda3/envs/cfrnet/lib/python3.9/site-packages (from shap<0.49.0,>=0.38.1->econml) (4.66.1)\r\n",
      "Requirement already satisfied: slicer==0.0.8 in /Users/pnans/anaconda3/envs/cfrnet/lib/python3.9/site-packages (from shap<0.49.0,>=0.38.1->econml) (0.0.8)\r\n",
      "Requirement already satisfied: numba>=0.54 in /Users/pnans/anaconda3/envs/cfrnet/lib/python3.9/site-packages (from shap<0.49.0,>=0.38.1->econml) (0.60.0)\r\n",
      "Requirement already satisfied: cloudpickle in /Users/pnans/anaconda3/envs/cfrnet/lib/python3.9/site-packages (from shap<0.49.0,>=0.38.1->econml) (2.2.1)\r\n",
      "Requirement already satisfied: typing-extensions in /Users/pnans/anaconda3/envs/cfrnet/lib/python3.9/site-packages (from shap<0.49.0,>=0.38.1->econml) (4.14.1)\r\n",
      "Requirement already satisfied: patsy>=0.5.2 in /Users/pnans/anaconda3/envs/cfrnet/lib/python3.9/site-packages (from statsmodels>=0.10->econml) (0.5.3)\r\n"
     ]
    },
    {
     "name": "stdout",
     "output_type": "stream",
     "text": [
      "Requirement already satisfied: llvmlite<0.44,>=0.43.0dev0 in /Users/pnans/anaconda3/envs/cfrnet/lib/python3.9/site-packages (from numba>=0.54->shap<0.49.0,>=0.38.1->econml) (0.43.0)\r\n",
      "Requirement already satisfied: six in /Users/pnans/anaconda3/envs/cfrnet/lib/python3.9/site-packages (from patsy>=0.5.2->statsmodels>=0.10->econml) (1.16.0)\r\n"
     ]
    },
    {
     "name": "stdout",
     "output_type": "stream",
     "text": [
      "Looking in indexes: https://pypi.org/simple, https://pypi.ngc.nvidia.com\r\n",
      "Requirement already satisfied: pyreadr in /Users/pnans/anaconda3/envs/cfrnet/lib/python3.9/site-packages (0.4.9)\r\n",
      "Requirement already satisfied: pandas>=1.2.0 in /Users/pnans/anaconda3/envs/cfrnet/lib/python3.9/site-packages (from pyreadr) (1.5.3)\r\n",
      "Requirement already satisfied: python-dateutil>=2.8.1 in /Users/pnans/anaconda3/envs/cfrnet/lib/python3.9/site-packages (from pandas>=1.2.0->pyreadr) (2.8.2)\r\n",
      "Requirement already satisfied: pytz>=2020.1 in /Users/pnans/anaconda3/envs/cfrnet/lib/python3.9/site-packages (from pandas>=1.2.0->pyreadr) (2023.3)\r\n",
      "Requirement already satisfied: numpy>=1.20.3 in /Users/pnans/anaconda3/envs/cfrnet/lib/python3.9/site-packages (from pandas>=1.2.0->pyreadr) (1.25.2)\r\n",
      "Requirement already satisfied: six>=1.5 in /Users/pnans/anaconda3/envs/cfrnet/lib/python3.9/site-packages (from python-dateutil>=2.8.1->pandas>=1.2.0->pyreadr) (1.16.0)\r\n"
     ]
    }
   ],
   "source": [
    "!pip install econml\n",
    "!pip install pyreadr"
   ]
  },
  {
   "cell_type": "code",
   "execution_count": 2,
   "metadata": {
    "execution": {
     "iopub.execute_input": "2025-08-08T06:20:15.576091Z",
     "iopub.status.busy": "2025-08-08T06:20:15.575877Z",
     "iopub.status.idle": "2025-08-08T06:20:17.395473Z",
     "shell.execute_reply": "2025-08-08T06:20:17.394992Z"
    },
    "id": "Nt_eEy495Nrx"
   },
   "outputs": [
    {
     "name": "stderr",
     "output_type": "stream",
     "text": [
      "/Users/pnans/anaconda3/envs/cfrnet/lib/python3.9/site-packages/tqdm/auto.py:21: TqdmWarning: IProgress not found. Please update jupyter and ipywidgets. See https://ipywidgets.readthedocs.io/en/stable/user_install.html\n",
      "  from .autonotebook import tqdm as notebook_tqdm\n"
     ]
    }
   ],
   "source": [
    "import pandas as pd\n",
    "import numpy as np\n",
    "from matplotlib import pyplot as plt\n",
    "import seaborn as sns\n",
    "from sklearn.linear_model import LinearRegression\n",
    "from sklearn.model_selection import train_test_split\n",
    "from collections import Counter\n",
    "from sklearn.metrics import mean_squared_error\n",
    "import sys\n",
    "from econml.metalearners import TLearner, SLearner, XLearner, DomainAdaptationLearner\n",
    "import numpy as np\n",
    "from numpy.random import binomial, multivariate_normal, normal, uniform\n",
    "from sklearn.linear_model import LinearRegression\n",
    "from sklearn.ensemble import RandomForestRegressor, RandomForestClassifier, GradientBoostingRegressor\n",
    "import matplotlib.pyplot as plt\n",
    "import pyreadr\n",
    "%matplotlib inline\n",
    "from econml.dr import DRLearner\n",
    "from functools import total_ordering\n",
    "\n",
    "# Enter Dataset Name : 'IHDP', 'jobs', 'cattaneo'\n",
    "dataset = 'IHDP'"
   ]
  },
  {
   "cell_type": "code",
   "execution_count": 3,
   "metadata": {
    "execution": {
     "iopub.execute_input": "2025-08-08T06:20:17.397544Z",
     "iopub.status.busy": "2025-08-08T06:20:17.397325Z",
     "iopub.status.idle": "2025-08-08T06:20:17.411178Z",
     "shell.execute_reply": "2025-08-08T06:20:17.410799Z"
    },
    "id": "1EAHsUBm6UXI"
   },
   "outputs": [],
   "source": [
    "if dataset == 'IHDP':\n",
    "    def ihdp_data_prep():\n",
    "        data = pd.read_csv('data/ihdp_npci_1.csv', header=None)\n",
    "        col =  [\"treatment\", \"y_factual\", \"y_cfactual\", \"mu0\", \"mu1\" ,]\n",
    "        for i in range(1,26):\n",
    "            col.append(str(i))\n",
    "        data.columns = col\n",
    "        true_ate = np.mean(data['mu1']-data['mu0'])\n",
    "        ihdp_data = pyreadr.read_r('data/ihdp.RData')['ihdp']\n",
    "        ihdp_data = ihdp_data[(ihdp_data['treat'] != 1) | (ihdp_data['momwhite'] != 0)].reset_index(drop=True)\n",
    "        ihdp_data = ihdp_data.drop(['momwhite', 'momblack', 'momhisp'], axis=1)\n",
    "        ihdp_data_compressed = ihdp_data.copy()\n",
    "        cols_to_norm = ['bw','b.head','preterm','birth.o','nnhealth','momage']\n",
    "        ihdp_data_compressed[cols_to_norm] = ihdp_data_compressed[cols_to_norm].apply(lambda x: (x - x.mean()) / (x.std()))\n",
    "        ihdp_data_compressed.columns = ['treatment','birth-weight','head-circumference','pre-term','birth-order','neonatal','age','sex','twin','married','edu-left-hs','edu-hs','edu-sc','cig','first-born','alcohol','drugs','working','prenatal','ark','ein','har','mia','pen','tex','was']\n",
    "        ihdp_data_compressed['y_factual'] = data['y_factual']\n",
    "        ihdp_data_compressed['y_cfactual'] = data['y_cfactual']\n",
    "        ihdp_data_compressed['ite'] = (ihdp_data_compressed['y_factual'] - ihdp_data_compressed['y_cfactual'])*(2*ihdp_data_compressed['treatment']-1)\n",
    "        cols_list = ihdp_data_compressed.columns.tolist()\n",
    "        ihdp_data_compressed = ihdp_data_compressed[cols_list[1:26] + cols_list[0:1] + cols_list[26:]]\n",
    "        variable_dict = {'birth-weight':\"1\", # Anchor variable\n",
    "                        'head-circumference':\"2\", # Kept\n",
    "                        'pre-term': \"3\", # Kept\n",
    "                        'birth-order': \"4\", # Kept\n",
    "                        'neonatal':\"5\", # Kept\n",
    "                        'age':\"6\", # Kept\n",
    "                        'sex':\"7\", # Kept\n",
    "                        'twin':\"8\",\n",
    "                        'married':\"9\",\n",
    "                        'edu-left-hs':\"10\",\n",
    "                        'edu-hs':\"10\",\n",
    "                        'edu-sc':\"10\",\n",
    "                        'cig':\"11\",\n",
    "                        'first-born':\"12\",\n",
    "                        'alcohol':\"13\",\n",
    "                        'drugs':\"14\", # Kept\n",
    "                        'working':\"15\",\n",
    "                        'prenatal':\"16\", # Kept\n",
    "                        'ark':\"17\",\n",
    "                        'ein':\"17\",\n",
    "                        'har':\"17\",\n",
    "                        'mia':\"17\",\n",
    "                        'pen':\"17\",\n",
    "                        'tex':\"17\",\n",
    "                        'was':\"17\"}\n",
    "        ihdp_data_compressed.columns = [\"1\",\"2\",\"3\",\"4\",\"5\",\"6\",\"7\",\"8\",\"9\",\"10\",\"10\",\"10\",\"11\",\"12\",\"13\",\"14\",\"15\",\"16\",\"17\",\"17\",\"17\",\"17\",\"17\",\"17\",\"17\",\"treatment\", \"y_factual\", \"y_cfactual\",\"ite\"]\n",
    "        return ihdp_data_compressed, variable_dict, true_ate\n",
    "    \n",
    "if dataset == 'cattaneo':\n",
    "\tdef get_cattaneo_compressed():\n",
    "\t\tcattaneo_ori = pd.read_stata('data/cattaneo2.dta')\n",
    "\t\tcattaneo_ori['mmarried'] = cattaneo_ori['mmarried'].replace('married', 1)\n",
    "\t\tcattaneo_ori['mmarried'] = cattaneo_ori['mmarried'].replace('notmarried', 0)\n",
    "\t\tcattaneo_ori['mbsmoke'] = cattaneo_ori['mbsmoke'].replace('smoker', 1)\n",
    "\t\tcattaneo_ori['mbsmoke'] = cattaneo_ori['mbsmoke'].replace('nonsmoker', 0)\n",
    "\t\tcattaneo_ori['fbaby'] = cattaneo_ori['fbaby'].replace('Yes', 1)\n",
    "\t\tcattaneo_ori['fbaby'] = cattaneo_ori['fbaby'].replace('No', 0)\n",
    "\t\tcattaneo_ori['prenatal1'] = cattaneo_ori['prenatal1'].replace('Yes', 1)\n",
    "\t\tcattaneo_ori['prenatal1'] = cattaneo_ori['prenatal1'].replace('No', 0)\n",
    "\t\tcattaneo_ori = cattaneo_ori.drop(['msmoke', 'lbweight'], axis=1)\n",
    "\t\tcols_to_norm = ['mage','medu','fage','fedu','nprenatal','monthslb','order','prenatal','birthmonth']\n",
    "\t\tcattaneo_norm = cattaneo_ori.copy()\n",
    "\t\tcattaneo_norm[cols_to_norm] = cattaneo_norm[cols_to_norm].apply(lambda x: (x - x.mean()) / (x.std()))\n",
    "\t\tcols_list = cattaneo_norm.columns.to_list()\n",
    "\t\tcattaneo_norm = cattaneo_norm[cols_list[7:14] + cols_list[17:19] + cols_list[1:7] + cols_list[15:17] + cols_list[19:] + cols_list[14:15]+ cols_list[0:1]]\n",
    "\t\tcattaneo_norm.columns = cattaneo_norm.columns.to_list()[:-2] + ['treatment','y']\n",
    "\t\tvariable_dict = {'mage':\"1\",\n",
    "\t\t\t\t\t\t'medu':\"2\",\n",
    "\t\t\t\t\t\t'fage': \"3\",\n",
    "\t\t\t\t\t\t'fedu': \"4\",\n",
    "\t\t\t\t\t\t'nprenatal':\"5\",\n",
    "\t\t\t\t\t\t'prenatal1':\"6\",\n",
    "\t\t\t\t\t\t'prenatal':\"7\",\n",
    "\t\t\t\t\t\t'monthslb':\"8\",\n",
    "\t\t\t\t\t\t'order':\"9\",\n",
    "\t\t\t\t\t\t'birthmonth':\"10\",\n",
    "\t\t\t\t\t\t'mmarried':\"11\",\n",
    "\t\t\t\t\t\t'mhisp':\"12\",\n",
    "\t\t\t\t\t\t'mrace':\"13\",\n",
    "\t\t\t\t\t\t'frace':\"14\",\n",
    "\t\t\t\t\t\t'fhisp':\"15\",\n",
    "\t\t\t\t\t\t'foreign':\"16\",\n",
    "\t\t\t\t\t\t'alcohol':\"17\",\n",
    "\t\t\t\t\t\t'deadkids':\"18\",\n",
    "\t\t\t\t\t\t'fbaby':\"19\"}\n",
    "\t\tcattaneo_compressed = cattaneo_norm.copy()\n",
    "\t\tcattaneo_compressed.columns = list(variable_dict.values()) + ['treatment','y']\n",
    "\t\tcat_columns = cattaneo_compressed.select_dtypes(['category']).columns\n",
    "\t\tcattaneo_compressed[cat_columns] = cattaneo_compressed[cat_columns].apply(lambda x: x.cat.codes)\n",
    "\t\treturn cattaneo_compressed, variable_dict\n"
   ]
  },
  {
   "cell_type": "code",
   "execution_count": 4,
   "metadata": {
    "execution": {
     "iopub.execute_input": "2025-08-08T06:20:17.412880Z",
     "iopub.status.busy": "2025-08-08T06:20:17.412726Z",
     "iopub.status.idle": "2025-08-08T06:20:17.434348Z",
     "shell.execute_reply": "2025-08-08T06:20:17.433941Z"
    },
    "id": "E_R9_QpNJiq1"
   },
   "outputs": [],
   "source": [
    "if dataset == 'IHDP':\n",
    "    data, variable_dict, true_ate = ihdp_data_prep()\n",
    "    ite = data['ite']\n",
    "    Y_og = data['y_factual']\n",
    "    T_og = data['treatment']\n",
    "    ite = data['ite']\n",
    "    X_og = data.drop(columns = ['y_cfactual', 'y_factual', 'ite', variable_dict['twin'], variable_dict['married'],\n",
    "                                                        variable_dict['edu-left-hs'] , variable_dict['edu-hs'],variable_dict['edu-sc'],variable_dict['cig'],\n",
    "                                                        variable_dict['first-born'], variable_dict['alcohol'], variable_dict['working'],\n",
    "                                                        variable_dict['ark'],variable_dict['ein'],variable_dict['har'],variable_dict['mia'],\n",
    "                                                        variable_dict['pen'],variable_dict['tex'], variable_dict['was']])\n",
    "    X, X_test, Y, y_test, T, t_test, ite_train, ite_test = train_test_split( X_og, Y_og, T_og, ite, test_size=0.2)\n",
    "    \n",
    "if dataset == 'jobs':\n",
    "    data_path=\"data/sample_data.csv\"\n",
    "    dataset='jobs'\n",
    "    data = pd.read_csv(data_path)\n",
    "    data = data.rename(columns={\"treat\": \"treatment\"})\n",
    "    Y_og = data['re78']\n",
    "    T_og = data['treatment']\n",
    "    X_og = data.drop([\"treatment\", \"re78\"], axis=1)\n",
    "    X, X_test, Y, y_test, T, T_test = train_test_split( X_og, Y_og, T_og, test_size=0.2)\n",
    "    true_att = 1676.3426\n",
    "    \n",
    "if dataset == 'cattaneo':\n",
    "    data, variable_dict = get_cattaneo_compressed()\n",
    "    Y_og = data['y']\n",
    "    T_og = data['treatment']\n",
    "    X_og = data.drop(columns = ['y', '5', '6', '7', '8', '9', '12', '15'], axis = 1)\n",
    "    X, X_test, Y, y_test, T, t_test = train_test_split( X_og, Y_og, T_og, test_size=0.2)"
   ]
  },
  {
   "cell_type": "code",
   "execution_count": 5,
   "metadata": {
    "colab": {
     "base_uri": "https://localhost:8080/"
    },
    "collapsed": true,
    "execution": {
     "iopub.execute_input": "2025-08-08T06:20:17.436163Z",
     "iopub.status.busy": "2025-08-08T06:20:17.436015Z",
     "iopub.status.idle": "2025-08-08T06:20:26.779657Z",
     "shell.execute_reply": "2025-08-08T06:20:26.779103Z"
    },
    "id": "-zoMdtuG7EwC",
    "outputId": "6be45ce8-7308-4774-db5d-036dfa0ef343"
   },
   "outputs": [
    {
     "name": "stdout",
     "output_type": "stream",
     "text": [
      "\n",
      "T-Learner sqrt(ePEHE):  1.87  \\pm  0.01\n",
      "T-Learner eATE:  0.92  \\pm  0.78\n",
      "\n",
      "S-Learner sqrt(ePEHE):  2.28  \\pm  0.34\n",
      "S-Learner eATE:  1.51  \\pm  0.82\n",
      "\n",
      "X-Learner sqrt(ePEHE):  1.67  \\pm  0.01\n",
      "X-Learner eATE:  0.76  \\pm  0.65\n",
      "\n",
      "DA-Learner sqrt(ePEHE):  1.77  \\pm  0.03\n",
      "DA-Learner eATE:  0.88  \\pm  0.74\n",
      "\n",
      "DR-Learner sqrt(ePEHE):  2.74  \\pm  0.15\n",
      "DR-Learner eATE:  2.12  \\pm  0.83\n"
     ]
    }
   ],
   "source": [
    "if dataset == 'IHDP':\n",
    "    T_te_rmse, S_te_rmse, X_te_rmse, DA_te_rmse, DR_te_rmse = [], [], [], [], []\n",
    "    T_te_pehe, S_te_pehe, X_te_pehe, DA_te_pehe, DR_te_pehe = [], [], [], [], []\n",
    "\n",
    "    for i in range(5):\n",
    "        n = 100\n",
    "        models = GradientBoostingRegressor(n_estimators=100, max_depth=6, min_samples_leaf=int(n/100))\n",
    "        T_learner = TLearner(models=models)\n",
    "        T_learner.fit(Y, T, X=X)\n",
    "        T_te = T_learner.effect(X_test)\n",
    "        T_te_rmse.append(np.abs(T_te - true_ate))\n",
    "        T_te_pehe.append(np.sqrt(np.mean(np.square(T_te - ite_test))))\n",
    "\n",
    "        S_learner = SLearner(overall_model=models)\n",
    "        S_learner.fit(Y, T, X=X)\n",
    "        S_te = S_learner.effect(X_test)\n",
    "        S_te_rmse.append(np.abs(S_te - true_ate))\n",
    "        S_te_pehe.append(np.sqrt(np.mean(np.square(S_te - ite_test))))\n",
    "\n",
    "        propensity_model = RandomForestClassifier(n_estimators=100, max_depth=6, min_samples_leaf=int(n/100))\n",
    "        X_learner = XLearner(models=models, propensity_model=propensity_model)\n",
    "        X_learner.fit(Y, T, X=X)\n",
    "        X_te = X_learner.effect(X_test)\n",
    "        X_te_rmse.append(np.abs(X_te - true_ate))\n",
    "        X_te_pehe.append(np.sqrt(np.mean(np.square(X_te - ite_test))))\n",
    "\n",
    "        DA_learner = DomainAdaptationLearner(models=models, final_models=models, propensity_model=propensity_model)\n",
    "        DA_learner.fit(Y, T, X=X)\n",
    "        DA_te = DA_learner.effect(X_test)\n",
    "        DA_te_rmse.append(np.abs(DA_te - true_ate))\n",
    "        DA_te_pehe.append(np.sqrt(np.mean(np.square(DA_te - ite_test))))\n",
    "\n",
    "        DR_learner = DRLearner(model_regression=models, model_propensity=propensity_model, model_final=models, cv=5)\n",
    "        DR_learner.fit(Y, T, X=X)\n",
    "        DR_te = DR_learner.effect(X_test)\n",
    "        DR_te_rmse.append(np.abs(DR_te - true_ate))\n",
    "        DR_te_pehe.append(np.sqrt(np.mean(np.square(DR_te - ite_test))))\n",
    "\n",
    "print()\n",
    "print(\"T-Learner sqrt(ePEHE): \", \"{:.2f}\".format(np.mean(T_te_pehe)), ' \\pm ', \"{:.2f}\".format(np.std(T_te_pehe)))\n",
    "print(\"T-Learner eATE: \", \"{:.2f}\".format(np.mean(T_te_rmse)), ' \\pm ', \"{:.2f}\".format(np.std(T_te_rmse)))\n",
    "print()\n",
    "print(\"S-Learner sqrt(ePEHE): \", \"{:.2f}\".format(np.mean(S_te_pehe)), ' \\pm ', \"{:.2f}\".format(np.std(S_te_pehe)))\n",
    "print(\"S-Learner eATE: \", \"{:.2f}\".format(np.mean(S_te_rmse)), ' \\pm ', \"{:.2f}\".format(np.std(S_te_rmse)))\n",
    "print()\n",
    "print(\"X-Learner sqrt(ePEHE): \", \"{:.2f}\".format(np.mean(X_te_pehe)), ' \\pm ', \"{:.2f}\".format(np.std(X_te_pehe)))\n",
    "print(\"X-Learner eATE: \", \"{:.2f}\".format(np.mean(X_te_rmse)), ' \\pm ', \"{:.2f}\".format(np.std(X_te_rmse)))\n",
    "print()\n",
    "print(\"DA-Learner sqrt(ePEHE): \", \"{:.2f}\".format(np.mean(DA_te_pehe)), ' \\pm ', \"{:.2f}\".format(np.std(DA_te_pehe)))\n",
    "print(\"DA-Learner eATE: \", \"{:.2f}\".format(np.mean(DA_te_rmse)), ' \\pm ', \"{:.2f}\".format(np.std(DA_te_rmse)))\n",
    "print()\n",
    "print(\"DR-Learner sqrt(ePEHE): \", \"{:.2f}\".format(np.mean(DR_te_pehe)), ' \\pm ', \"{:.2f}\".format(np.std(DR_te_pehe)))\n",
    "print(\"DR-Learner eATE: \", \"{:.2f}\".format(np.mean(DR_te_rmse)), ' \\pm ', \"{:.2f}\".format(np.std(DR_te_rmse)))"
   ]
  },
  {
   "cell_type": "code",
   "execution_count": 6,
   "metadata": {
    "colab": {
     "base_uri": "https://localhost:8080/"
    },
    "execution": {
     "iopub.execute_input": "2025-08-08T06:20:26.781704Z",
     "iopub.status.busy": "2025-08-08T06:20:26.781556Z",
     "iopub.status.idle": "2025-08-08T06:20:26.792323Z",
     "shell.execute_reply": "2025-08-08T06:20:26.791946Z"
    },
    "id": "QyxirKjlUfi8",
    "outputId": "0062da3b-609d-4960-db32-75df9abed387"
   },
   "outputs": [
    {
     "name": "stdout",
     "output_type": "stream",
     "text": [
      "\n",
      "T-Learner eATT:  0.92  \\pm  0.78\n",
      "\n",
      "S-Learner eATT:  1.51  \\pm  0.82\n",
      "\n",
      "X-Learner eATT:  0.76  \\pm  0.65\n",
      "\n",
      "DA-Learner eATT:  0.88  \\pm  0.74\n",
      "\n",
      "DR-Learner eATT:  2.12  \\pm  0.83\n"
     ]
    }
   ],
   "source": [
    "def policy_risk(T,Y, mu_0_pred, mu_1_pred):\n",
    "    y_0_true = Y[T==0].tolist()\n",
    "    y_1_true = Y[T==1].tolist()\n",
    "    n = len(y_0_true)\n",
    "    d_opt = (y_1_true > y_0_true)\n",
    "    d_hat = (mu_1_pred > mu_0_pred)\n",
    "    policy_risk_value = np.mean(np.abs((mu_1_pred - mu_0_pred) * (2 * (d_hat != d_opt) - 1)))\n",
    "    return policy_risk_value\n",
    "\n",
    "if dataset == 'jobs':\n",
    "    T_te_rmse, S_te_rmse, X_te_rmse, DA_te_rmse, DR_te_rmse = [], [], [], [], []\n",
    "    # T_te_pr, S_te_pr, X_te_pr, DA_te_pr, DR_te_pr = [], [], [], [], []\n",
    "\n",
    "    for i in range(5):\n",
    "        n = 100\n",
    "        # print(X.shape, T.shape, Y.shape)\n",
    "        models = GradientBoostingRegressor(n_estimators=100, max_depth=6, min_samples_leaf=int(n/100))\n",
    "        T_learner = TLearner(models=models)\n",
    "        T_learner.fit(Y, T, X=X)\n",
    "        T_te = T_learner.effect(X_test)\n",
    "        # mu_0_pred = T_learner.models[1].predict(X)\n",
    "        # mu_1_pred = T_learner.models[0].predict(X)\n",
    "        T_te_rmse.append(np.abs(T_te - true_att))\n",
    "        # T_te_pr.append(policy_risk(T,Y,mu_0_pred, mu_1_pred))\n",
    "\n",
    "        S_learner = SLearner(overall_model=models)\n",
    "        S_learner.fit(Y, T, X=X)\n",
    "        S_te = S_learner.effect(X_test)\n",
    "        # X_prime = X\n",
    "        # X_prime['treatment'] = np.zeros_like(T)\n",
    "        # mu_0_pred = S_learner.overall_model.predict(X_prime)\n",
    "        # X_prime['treatment'] = np.ones_like(T)\n",
    "        # mu_1_pred = S_learner.overall_model.predict(X_prime)\n",
    "        S_te_rmse.append(np.abs(S_te - true_att))\n",
    "        # S_te_pr.append(policy_risk(T,Y,mu_0_pred, mu_1_pred))\n",
    "\n",
    "        propensity_model = RandomForestClassifier(n_estimators=100, max_depth=6, min_samples_leaf=int(n/100))\n",
    "        X_learner = XLearner(models=models, propensity_model= propensity_model)\n",
    "        X_learner.fit(Y, T, X=X)\n",
    "        X_te = X_learner.effect(X_test)\n",
    "        # mu_0_pred = X_learner.models[1].predict(X)  # Predictions for T=1\n",
    "        # mu_1_pred = X_learner.models[0].predict(X)    # Predictions for T=0\n",
    "        X_te_rmse.append(np.abs(X_te - true_att))\n",
    "        # X_te_pr.append(policy_risk(T,Y,mu_0_pred, mu_1_pred))\n",
    "\n",
    "        DA_learner = DomainAdaptationLearner(models=models, final_models=models, propensity_model=propensity_model)\n",
    "        DA_learner.fit(Y, T, X=X)\n",
    "        DA_te = DA_learner.effect(X_test)\n",
    "        # mu_0_pred = DA_learner.models[1].predict(X)  # Predictions for T=1\n",
    "        # mu_1_pred = DA_learner.models[0].predict(X)    # Predictions for T=0\n",
    "        DA_te_rmse.append(np.abs(DA_te - true_att))\n",
    "        # DA_te_pr.append(policy_risk(T,Y,mu_0_pred, mu_1_pred))\n",
    "\n",
    "        DR_learner = DRLearner(model_regression=models, model_propensity=propensity_model, model_final=models, cv=5)\n",
    "        DR_learner.fit(Y, T, X=X)\n",
    "        DR_te = DR_learner.effect(X_test)\n",
    "        # mu_0_pred = DR_learner.models[1].predict(X)  # Predictions for T=1\n",
    "        # mu_1_pred = DR_learner.models[0].predict(X)    # Predictions for T=0\n",
    "        DR_te_rmse.append(np.abs(DR_te - true_att))\n",
    "        # DR_te_pr.append(policy_risk(T,Y,mu_0_pred, mu_1_pred))\n",
    "\n",
    "print()\n",
    "# print(\"T-Learner eRP: \", \"{:.2f}\".format(np.mean(T_te_pr)), ' \\pm ', \"{:.2f}\".format(np.std(T_te_pr)))\n",
    "print(\"T-Learner eATT: \", \"{:.2f}\".format(np.mean(T_te_rmse)), ' \\pm ', \"{:.2f}\".format(np.std(T_te_rmse)))\n",
    "print()\n",
    "# print(\"S-Learner eRP: \", \"{:.2f}\".format(np.mean(S_te_pr)), ' \\pm ', \"{:.2f}\".format(np.std(S_te_pr)))\n",
    "print(\"S-Learner eATT: \", \"{:.2f}\".format(np.mean(S_te_rmse)), ' \\pm ', \"{:.2f}\".format(np.std(S_te_rmse)))\n",
    "print()\n",
    "# print(\"X-Learner eRP: \", \"{:.2f}\".format(np.mean(X_te_pr)), ' \\pm ', \"{:.2f}\".format(np.std(X_te_pr)))\n",
    "print(\"X-Learner eATT: \", \"{:.2f}\".format(np.mean(X_te_rmse)), ' \\pm ', \"{:.2f}\".format(np.std(X_te_rmse)))\n",
    "print()\n",
    "# print(\"DA-Learner eRP: \", \"{:.2f}\".format(np.mean(DA_te_pr)), ' \\pm ', \"{:.2f}\".format(np.std(DA_te_pr)))\n",
    "print(\"DA-Learner eATT: \", \"{:.2f}\".format(np.mean(DA_te_rmse)), ' \\pm ', \"{:.2f}\".format(np.std(DA_te_rmse)))\n",
    "print()\n",
    "# print(\"DR-Learner eRP: \", \"{:.2f}\".format(np.mean(DR_te_pr)), ' \\pm ', \"{:.2f}\".format(np.std(DR_te_pr)))\n",
    "print(\"DR-Learner eATT: \", \"{:.2f}\".format(np.mean(DR_te_rmse)), ' \\pm ', \"{:.2f}\".format(np.std(DR_te_rmse)))"
   ]
  },
  {
   "cell_type": "code",
   "execution_count": 7,
   "metadata": {
    "colab": {
     "base_uri": "https://localhost:8080/"
    },
    "execution": {
     "iopub.execute_input": "2025-08-08T06:20:26.794048Z",
     "iopub.status.busy": "2025-08-08T06:20:26.793895Z",
     "iopub.status.idle": "2025-08-08T06:20:26.802863Z",
     "shell.execute_reply": "2025-08-08T06:20:26.802510Z"
    },
    "id": "aA-zBegouCcb",
    "outputId": "65e9f43b-19c6-4f28-f6ee-c26bd1b692b5"
   },
   "outputs": [
    {
     "name": "stdout",
     "output_type": "stream",
     "text": [
      "\n",
      "T-Learner ATE:  0.92  \\pm  0.78\n",
      "\n",
      "S-Learner ATE:  1.51  \\pm  0.82\n",
      "\n",
      "X-Learner ATE:  0.76  \\pm  0.65\n",
      "\n",
      "DA-Learner ATE:  0.88  \\pm  0.74\n",
      "\n",
      "DR-Learner ATE:  2.12  \\pm  0.83\n"
     ]
    }
   ],
   "source": [
    "if dataset == 'cattaneo':\n",
    "    T_te_rmse, S_te_rmse, X_te_rmse, DA_te_rmse, DR_te_rmse = [], [], [], [], []\n",
    "\n",
    "    for i in range(5):\n",
    "        n = 100\n",
    "        models = GradientBoostingRegressor(n_estimators=100, max_depth=6, min_samples_leaf=int(n/100))\n",
    "        T_learner = TLearner(models=models)\n",
    "        T_learner.fit(Y, T, X=X)\n",
    "        T_te = T_learner.effect(X_test)\n",
    "        T_te_rmse.append(np.abs(T_te))\n",
    "\n",
    "        S_learner = SLearner(overall_model=models)\n",
    "        S_learner.fit(Y, T, X=X)\n",
    "        S_te = S_learner.effect(X_test)\n",
    "        S_te_rmse.append(np.abs(S_te))\n",
    "\n",
    "        propensity_model = RandomForestClassifier(n_estimators=100, max_depth=6, min_samples_leaf=int(n/100))\n",
    "        X_learner = XLearner(models=models, propensity_model= propensity_model)\n",
    "        X_learner.fit(Y, T, X=X)\n",
    "        X_te = X_learner.effect(X_test)\n",
    "        X_te_rmse.append(np.abs(X_te))\n",
    "\n",
    "        DA_learner = DomainAdaptationLearner(models=models, final_models=models, propensity_model=propensity_model)\n",
    "        DA_learner.fit(Y, T, X=X)\n",
    "        DA_te = DA_learner.effect(X_test)\n",
    "        DA_te_rmse.append(np.abs(DA_te - true_att))\n",
    "\n",
    "        DR_learner = DRLearner(model_regression=models, model_propensity=propensity_model, model_final=models, cv=5)\n",
    "        DR_learner.fit(Y, T, X=X)\n",
    "        DR_te = DR_learner.effect(X_test)\n",
    "        DR_te_rmse.append(np.abs(DR_te))\n",
    "\n",
    "print()\n",
    "print(\"T-Learner ATE: \", \"{:.2f}\".format(np.mean(T_te_rmse)), ' \\pm ', \"{:.2f}\".format(np.std(T_te_rmse)))\n",
    "print()\n",
    "print(\"S-Learner ATE: \", \"{:.2f}\".format(np.mean(S_te_rmse)), ' \\pm ', \"{:.2f}\".format(np.std(S_te_rmse)))\n",
    "print()\n",
    "print(\"X-Learner ATE: \", \"{:.2f}\".format(np.mean(X_te_rmse)), ' \\pm ', \"{:.2f}\".format(np.std(X_te_rmse)))\n",
    "print()\n",
    "print(\"DA-Learner ATE: \", \"{:.2f}\".format(np.mean(DA_te_rmse)), ' \\pm ', \"{:.2f}\".format(np.std(DA_te_rmse)))\n",
    "print()\n",
    "print(\"DR-Learner ATE: \", \"{:.2f}\".format(np.mean(DR_te_rmse)), ' \\pm ', \"{:.2f}\".format(np.std(DR_te_rmse)))"
   ]
  },
  {
   "cell_type": "code",
   "execution_count": null,
   "metadata": {
    "id": "49agSoi3ADdU"
   },
   "outputs": [],
   "source": []
  }
 ],
 "metadata": {
  "colab": {
   "provenance": []
  },
  "kernelspec": {
   "display_name": "Python 3",
   "name": "python3"
  },
  "language_info": {
   "codemirror_mode": {
    "name": "ipython",
    "version": 3
   },
   "file_extension": ".py",
   "mimetype": "text/x-python",
   "name": "python",
   "nbconvert_exporter": "python",
   "pygments_lexer": "ipython3",
   "version": "3.9.16"
  }
 },
 "nbformat": 4,
 "nbformat_minor": 0
}
